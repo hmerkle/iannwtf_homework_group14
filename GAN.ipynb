{
  "nbformat": 4,
  "nbformat_minor": 0,
  "metadata": {
    "colab": {
      "name": "GAN.ipynb",
      "provenance": [],
      "collapsed_sections": [],
      "authorship_tag": "ABX9TyNABqKvKCEfi9C9fT8Art4b",
      "include_colab_link": true
    },
    "kernelspec": {
      "name": "python3",
      "display_name": "Python 3"
    },
    "language_info": {
      "name": "python"
    }
  },
  "cells": [
    {
      "cell_type": "markdown",
      "metadata": {
        "id": "view-in-github",
        "colab_type": "text"
      },
      "source": [
        "<a href=\"https://colab.research.google.com/github/hmerkle/iannwtf_homework_group14/blob/main/GAN.ipynb\" target=\"_parent\"><img src=\"https://colab.research.google.com/assets/colab-badge.svg\" alt=\"Open In Colab\"/></a>"
      ]
    },
    {
      "cell_type": "markdown",
      "source": [
        "# Imports"
      ],
      "metadata": {
        "id": "oqhRcXu3zUFU"
      }
    },
    {
      "cell_type": "code",
      "execution_count": 1,
      "metadata": {
        "id": "GSfRwi7_xfIM"
      },
      "outputs": [],
      "source": [
        "import os\n",
        "import glob\n",
        "import imageio\n",
        "import matplotlib.pyplot as plt\n",
        "import numpy as np\n",
        "import PIL\n",
        "from tensorflow.keras import layers\n",
        "import time\n",
        "import urllib\n",
        "from IPython import display\n",
        "\n",
        "import tensorflow as tf\n",
        "import tensorflow_datasets as tfds\n",
        "from tensorflow.keras.layers import Dense, Dropout, Conv2D, Flatten, MaxPooling2D, Conv2DTranspose, Reshape, Activation, BatchNormalization, GlobalAvgPool2D"
      ]
    },
    {
      "cell_type": "markdown",
      "source": [
        "# Data pipeline"
      ],
      "metadata": {
        "id": "eAqyKujmzIHk"
      }
    },
    {
      "cell_type": "code",
      "source": [
        "def prepare(data, batch_size):\n",
        "  # reshape 1x784 pixel vectors to (28, 28, 1)\n",
        "  data = data.map(lambda img: tf.reshape(img, (28, 28, 1)))\n",
        "  \n",
        "  #convert data from uint8 to float32\n",
        "  data = data.map(lambda img : tf.cast(img, tf.float32))\n",
        "    \n",
        "  #input normalization, bringing image values from range [0, 255] to [-1, 1] -> (img/128.)-1.\n",
        "  data = data.map(lambda img: (img/128.)-1.)\n",
        "\n",
        "  #shuffle, batch, prefetch\n",
        "  data = data.shuffle(1000)\n",
        "  data = data.batch(batch_size)\n",
        "  data = data.prefetch(500)\n",
        "\n",
        "  #return preprocessed dataset\n",
        "  return data"
      ],
      "metadata": {
        "id": "aZPJl0V0zGLl"
      },
      "execution_count": 2,
      "outputs": []
    },
    {
      "cell_type": "markdown",
      "source": [
        "# Implementation of a GAN"
      ],
      "metadata": {
        "id": "Nydc6iJ35TMr"
      }
    },
    {
      "cell_type": "markdown",
      "source": [
        "### Discriminator"
      ],
      "metadata": {
        "id": "YfG1eEO15Yob"
      }
    },
    {
      "cell_type": "code",
      "source": [
        "class Discriminator(tf.keras.Model):\n",
        "\n",
        "  def __init__(self):\n",
        "    super(Discriminator, self).__init__()\n",
        "    # , kernel_regularizer = tf.keras.regularizers.L2(0.001)\n",
        "    self.conv_1 = Conv2D(filters = 32, kernel_size = (3, 3), strides = 2, padding = 'same', activation='relu', kernel_regularizer = tf.keras.regularizers.L2(0.001), input_shape=(28, 28, 1))\n",
        "    self.maxpool_1 = MaxPooling2D((2, 2), padding='same')\n",
        "    self.dropout_1 = Dropout(0.1)\n",
        "\n",
        "    self.conv_2 = Conv2D(filters = 64, kernel_size = (3, 3), strides = 2, padding = 'same', kernel_regularizer = tf.keras.regularizers.L2(0.001), activation='relu')\n",
        "    self.maxpool_2 = MaxPooling2D((2, 2), padding='same')\n",
        "    self.dropout_2 = Dropout(0.1)\n",
        "\n",
        "    self.conv_3 = Conv2D(filters = 128, kernel_size = (3, 3), strides = 2, padding = 'same', kernel_regularizer = tf.keras.regularizers.L2(0.001), activation='relu')\n",
        "    self.glob_pool = GlobalAvgPool2D()\n",
        "    self.dense = Dense(1, activation=\"sigmoid\")\n",
        "\n",
        "\n",
        "  @tf.function\n",
        "  def call(self, inputs, training):\n",
        "    x = self.conv_1(inputs)\n",
        "    x = self.maxpool_1(x)\n",
        "    if training == True:\n",
        "      x = self.dropout_1(x)\n",
        "    x = self.conv_2(x)\n",
        "    x = self.maxpool_2(x)\n",
        "    if training == True:\n",
        "      x = self.dropout_2(x)\n",
        "    x = self.conv_3(x)\n",
        "    x = self.glob_pool(x)\n",
        "    x = self.dense(x)\n",
        "    return x\n",
        "    "
      ],
      "metadata": {
        "id": "Xk1Mar8Z5YKr"
      },
      "execution_count": 3,
      "outputs": []
    },
    {
      "cell_type": "markdown",
      "source": [
        "### Generator"
      ],
      "metadata": {
        "id": "6gefHUyS_sSI"
      }
    },
    {
      "cell_type": "code",
      "source": [
        "class Generator(tf.keras.Model):\n",
        "\n",
        "  def __init__(self):\n",
        "    super(Generator, self).__init__()\n",
        "    # , kernel_regularizer = tf.keras.regularizers.L2(0.001)\n",
        "\n",
        "    self.dense_1 = Dense(7*7*128, input_shape = (100,))\n",
        "    #self.batch_norm_1 = BatchNormalization()\n",
        "    self.act_1 = Activation(\"relu\")\n",
        "\n",
        "    self.reshape_1 = Reshape((7, 7, 128))\n",
        "\n",
        "    self.conv_t_1 = Conv2DTranspose(64, kernel_size = (4, 4), strides = 1, padding = 'same')\n",
        "    #self.batch_norm_2 = BatchNormalization()\n",
        "    self.act_2 = Activation(\"relu\")\n",
        "\n",
        "    self.conv_t_2 = Conv2DTranspose(32, kernel_size = (4, 4), strides = 2, padding = 'same')\n",
        "    #self.batch_norm_3 = BatchNormalization()\n",
        "    self.act_3 = Activation(\"relu\")\n",
        "\n",
        "    self.conv_t_3 = Conv2DTranspose(1, kernel_size = (4, 4), strides = 2, padding = 'same', activation='tanh')\n",
        " \n",
        "\n",
        "  @tf.function\n",
        "  def call(self, inputs):\n",
        "    x = self.dense_1(inputs)\n",
        "    #x = self.batch_norm_1(x)\n",
        "    x = self.act_1(x)\n",
        "\n",
        "    x = self.reshape_1(x)\n",
        "\n",
        "    x = self.conv_t_1(x)\n",
        "    #x = self.batch_norm_2(x)\n",
        "    x = self.act_2(x)\n",
        "\n",
        "    x = self.conv_t_2(x)\n",
        "    #x = self.batch_norm_3(x)\n",
        "    x = self.act_3(x)\n",
        "\n",
        "    x = self.conv_t_3(x)\n",
        "    return x"
      ],
      "metadata": {
        "id": "7quCoQzy5Smz"
      },
      "execution_count": 4,
      "outputs": []
    },
    {
      "cell_type": "markdown",
      "source": [
        "# Training"
      ],
      "metadata": {
        "id": "LHwcqugJF1un"
      }
    },
    {
      "cell_type": "code",
      "source": [
        "# creating images with generator\n",
        "def create_img(generator, batch_size):\n",
        "  noise = tf.random.normal([batch_size, 100])\n",
        "  generated_image = generator(noise)\n",
        "\n",
        "  #plt.imshow(generated_image[0, :, :, 0], cmap='gray')\n",
        "  return generated_image"
      ],
      "metadata": {
        "id": "y8SL-hJhG_5f"
      },
      "execution_count": 5,
      "outputs": []
    },
    {
      "cell_type": "code",
      "source": [
        "# loss of  discriminator is based on how well the discriminator detected fake images as fake and real images as real\n",
        "def get_discriminator_loss(bce_loss, real_prediction, fake_prediction):\n",
        "\n",
        "    # compute BCE between  generators output on fake images and all labels=0\n",
        "    fake_loss = bce_loss(fake_prediction, tf.zeros_like(fake_prediction))\n",
        "    # compute BCE between generators output on the real images and all labels = 1\n",
        "    real_loss = bce_loss(real_prediction, tf.ones_like(real_prediction))\n",
        "    #Add them both to receive the resulting loss of the discriminator\n",
        "    total_loss = real_loss + fake_loss\n",
        "    \n",
        "    return total_loss"
      ],
      "metadata": {
        "id": "IcohO729Lbaf"
      },
      "execution_count": 6,
      "outputs": []
    },
    {
      "cell_type": "code",
      "source": [
        "# loss of generator is estimated by how well the generator was able to fool the discriminator\n",
        "def get_generator_loss(bce_loss, fake_prediction):\n",
        "    return bce_loss(fake_prediction, tf.ones_like(fake_prediction))"
      ],
      "metadata": {
        "id": "ijfJcivBLjtv"
      },
      "execution_count": 7,
      "outputs": []
    },
    {
      "cell_type": "markdown",
      "source": [
        "### *Train step*"
      ],
      "metadata": {
        "id": "_wBKXWlmik7D"
      }
    },
    {
      "cell_type": "code",
      "source": [
        "def train_step(generator, discriminator, true_images, bce_loss, discriminator_optimizer, generator_optimizer, batch_size):\n",
        "   \n",
        "  # discriminator sees a batch of true images and a batch of the generated\n",
        "  with tf.GradientTape() as d_tape, tf.GradientTape() as g_tape:\n",
        "\n",
        "    # each training step generator is fed with random noise and creates images from it\n",
        "    generated_images = create_img(generator, batch_size) \n",
        "\n",
        "    real_prediction = discriminator(true_images, True)\n",
        "    fake_prediction = discriminator(generated_images, True)\n",
        "\n",
        "    # calculate losses\n",
        "    discriminator_loss = get_discriminator_loss(bce_loss, real_prediction, fake_prediction)\n",
        "    generator_loss = get_generator_loss(bce_loss, fake_prediction)\n",
        "\n",
        "\n",
        "  discriminator_gradients = d_tape.gradient(discriminator_loss, discriminator.trainable_variables)\n",
        "  generator_gradients = g_tape.gradient(generator_loss, generator.trainable_variables)\n",
        "\n",
        "  discriminator_optimizer.apply_gradients(zip(discriminator_gradients, discriminator.trainable_variables))\n",
        "  generator_optimizer.apply_gradients(zip(generator_gradients, generator.trainable_variables))\n",
        "  \n",
        "  return discriminator_loss, generator_loss"
      ],
      "metadata": {
        "id": "uVKJ1e_zF5Hg"
      },
      "execution_count": 8,
      "outputs": []
    },
    {
      "cell_type": "markdown",
      "source": [
        "### *Test step*"
      ],
      "metadata": {
        "id": "6PWSSfsbitC5"
      }
    },
    {
      "cell_type": "code",
      "source": [
        "def test(generator, discriminator, true_images, bce_loss, batch_size):\n",
        "  d_loss_aggregator = []\n",
        "  g_loss_aggregator = []\n",
        "\n",
        "  for image_batch in true_images:\n",
        "    generated_images = create_img(generator, batch_size)\n",
        "\n",
        "    real_prediction = discriminator(image_batch, False)\n",
        "    fake_prediction = discriminator(generated_images, False)\n",
        "\n",
        "    # calculate losses\n",
        "    discriminator_loss = get_discriminator_loss(bce_loss, real_prediction, fake_prediction)\n",
        "    generator_loss = get_generator_loss(bce_loss, fake_prediction)\n",
        "    \n",
        "    d_loss_aggregator.append(discriminator_loss.numpy())\n",
        "    g_loss_aggregator.append(generator_loss.numpy())\n",
        "\n",
        "  test_d_loss = tf.reduce_mean(d_loss_aggregator)\n",
        "  test_g_loss = tf.reduce_mean(g_loss_aggregator)\n",
        "\n",
        "  return test_d_loss, test_g_loss, generated_images"
      ],
      "metadata": {
        "id": "CJasEla0igjs"
      },
      "execution_count": 9,
      "outputs": []
    },
    {
      "cell_type": "markdown",
      "source": [
        "### Visualization"
      ],
      "metadata": {
        "id": "3noeoWPohnFL"
      }
    },
    {
      "cell_type": "code",
      "source": [
        "# Description: This function visualizes the losses of training and testing\n",
        "def visualization(train_d_losses, train_g_losses, test_d_losses, test_g_losses):\n",
        "  # Visualization of losses\n",
        "  plt.figure()\n",
        "  line1, = plt.plot(train_d_losses)\n",
        "  line2, = plt.plot(test_d_losses)\n",
        "  line3, = plt.plot(train_g_losses)\n",
        "  line4, = plt.plot(test_g_losses)\n",
        "  plt.title(\"Training and testing losses\")\n",
        "  plt.xlabel(\"Training steps\")\n",
        "  plt.ylabel(\"loss\")\n",
        "  plt.legend((line1, line2, line3, line4), (\"Training Discriminator\", \"Testing Discriminator\", \"Training Generator\", \"Testing Generator\"), fontsize=12)\n",
        "  plt.show()"
      ],
      "metadata": {
        "id": "G8X4dbsIhpuJ"
      },
      "execution_count": 10,
      "outputs": []
    },
    {
      "cell_type": "code",
      "source": [
        "# Utility function to plot images\n",
        "def plot_imgs(original, n, title):\n",
        "\n",
        "  plt.figure(figsize=(20, 4))\n",
        "  for i in range(n):\n",
        "    # display original + noise\n",
        "    ax = plt.subplot(2, n, i + 1)\n",
        "    plt.imshow(tf.squeeze(original[i]))\n",
        "    plt.title(title)\n",
        "    \n",
        "    ax.get_xaxis().set_visible(False)\n",
        "    ax.get_yaxis().set_visible(False)\n",
        "        \n",
        "  plt.show()"
      ],
      "metadata": {
        "id": "LKNLKI-roExq"
      },
      "execution_count": 11,
      "outputs": []
    },
    {
      "cell_type": "markdown",
      "source": [
        "# Execution"
      ],
      "metadata": {
        "id": "nLF9Y5GEINhg"
      }
    },
    {
      "cell_type": "markdown",
      "source": [
        "### Quickdraw get data"
      ],
      "metadata": {
        "id": "qTYTiQk2xq0U"
      }
    },
    {
      "cell_type": "code",
      "source": [
        "categories = [line.rstrip(b'\\n') for line in urllib.request.urlopen('https://raw.githubusercontent.com/googlecreativelab/quickdraw-dataset/master/categories.txt')]\n",
        "category = 'candle'\n",
        "\n",
        "# Creates a folder to download the original drawings into.\n",
        "# We chose to use the numpy format : 1x784 pixel vectors, with values going from 0 (white) to 255 (black). We reshape them later to 28x28 grids and normalize the pixel intensity to [-1, 1]\n",
        "\n",
        "if not os.path.isdir('npy_files'):\n",
        "    os.mkdir('npy_files')\n",
        "    \n",
        "url = f'https://storage.googleapis.com/quickdraw_dataset/full/numpy_bitmap/{category}.npy'  \n",
        "urllib.request.urlretrieve(url, f'npy_files/{category}.npy')\n",
        "\n",
        "images = np.load(f'npy_files/{category}.npy')\n",
        "print(f'{len(images)} images to train on')\n",
        "\n",
        "# You can limit the amount of images you use for training by setting :\n",
        "train_images = images[:10000]\n",
        "# You should also define a samller subset of the images for testing..\n",
        "test_images = images[10000:]"
      ],
      "metadata": {
        "colab": {
          "base_uri": "https://localhost:8080/"
        },
        "id": "-jUdwuSyxm5z",
        "outputId": "11917ca2-61ef-4b3b-ef23-eca5862ccaae"
      },
      "execution_count": 12,
      "outputs": [
        {
          "output_type": "stream",
          "name": "stdout",
          "text": [
            "141545 images to train on\n"
          ]
        }
      ]
    },
    {
      "cell_type": "markdown",
      "source": [
        "### Prepare data"
      ],
      "metadata": {
        "id": "n9rZxphcywHc"
      }
    },
    {
      "cell_type": "code",
      "source": [
        "batch_size = 32\n",
        "\n",
        "# Creates tensorflow datasets for the training and test data.\n",
        "train_ds = tf.data.Dataset.from_tensor_slices(train_images)\n",
        "test_ds = tf.data.Dataset.from_tensor_slices(test_images)\n",
        "\n",
        "train_ds = prepare(train_ds, batch_size)\n",
        "test_ds = prepare(test_ds, batch_size)"
      ],
      "metadata": {
        "id": "W4FXZEC-y3M7"
      },
      "execution_count": 13,
      "outputs": []
    },
    {
      "cell_type": "code",
      "source": [
        "# show examples of pictures\n",
        "for i in train_ds:\n",
        "  plot_imgs(i, 10, \"Example images\")\n",
        "  break"
      ],
      "metadata": {
        "colab": {
          "base_uri": "https://localhost:8080/",
          "height": 145
        },
        "id": "VM0WNBIMobGa",
        "outputId": "13c7fa31-966d-4636-daf0-573432aed353"
      },
      "execution_count": 14,
      "outputs": [
        {
          "output_type": "display_data",
          "data": {
            "image/png": "[encoded data removed]",
            "text/plain": [
              "<Figure size 1440x288 with 10 Axes>"
            ]
          },
          "metadata": {
            "needs_background": "light"
          }
        }
      ]
    },
    {
      "cell_type": "markdown",
      "source": [
        "### Parameters"
      ],
      "metadata": {
        "id": "GjahGfxOQKMZ"
      }
    },
    {
      "cell_type": "code",
      "source": [
        "tf.keras.backend.clear_session()\n",
        "### Hyperparameters\n",
        "num_epochs = 10\n",
        "learning_rate = 0.0001\n",
        "    \n",
        "# Initialize the optimizers: RMSprop\n",
        "discriminator_optimizer = tf.keras.optimizers.RMSprop(learning_rate)\n",
        "generator_optimizer = tf.keras.optimizers.RMSprop(learning_rate)\n",
        "\n",
        "# Initialize generator and discriminator\n",
        "generator = Generator()\n",
        "discriminator = Discriminator()\n",
        "\n",
        "# Initialize the loss\n",
        "bce_loss = tf.keras.losses.BinaryCrossentropy()"
      ],
      "metadata": {
        "id": "_vYgtVKVQOlG"
      },
      "execution_count": 15,
      "outputs": []
    },
    {
      "cell_type": "markdown",
      "source": [
        "### Training"
      ],
      "metadata": {
        "id": "YbTVdshdQKHU"
      }
    },
    {
      "cell_type": "code",
      "source": [
        "# Initialize lists for later visualization.\n",
        "train_g_losses = []\n",
        "test_g_losses = []\n",
        "\n",
        "train_d_losses = []\n",
        "test_d_losses = []\n",
        "\n",
        "\n",
        "#testing once before we begin\n",
        "d_test_loss, g_test_loss, _ = test(generator, discriminator, test_ds, bce_loss, batch_size)\n",
        "test_d_losses.append(d_test_loss)\n",
        "test_g_losses.append(g_test_loss)\n",
        "\n",
        "#check how model performs on train data once before we begin\n",
        "d_train_loss, g_train_loss, _ = test(generator, discriminator, train_ds, bce_loss, batch_size)\n",
        "train_d_losses.append(d_train_loss)\n",
        "train_g_losses.append(g_train_loss)\n",
        "\n",
        "# We train for num_epochs epochs\n",
        "for epoch in range(num_epochs):\n",
        "\n",
        "    #training (and checking in with training)\n",
        "    epoch_loss_agg_d = []\n",
        "    epoch_loss_agg_g = []\n",
        "\n",
        "    for image_batch in train_ds:\n",
        "        d_train_loss, g_train_loss = train_step(generator, discriminator, image_batch, bce_loss, discriminator_optimizer, generator_optimizer, batch_size)\n",
        "        epoch_loss_agg_d.append(d_train_loss)\n",
        "        epoch_loss_agg_g.append(g_train_loss)\n",
        "\n",
        "    #track training loss\n",
        "    train_d_losses.append(tf.reduce_mean(epoch_loss_agg_d))\n",
        "    train_g_losses.append(tf.reduce_mean(epoch_loss_agg_g))\n",
        "    \n",
        "    #testing, so we can track test loss\n",
        "    d_test_loss, g_test_loss, generated_img = test(generator, discriminator, test_ds, bce_loss, batch_size)\n",
        "    test_d_losses.append(d_test_loss)\n",
        "    test_g_losses.append(g_test_loss)\n",
        "    \n",
        "    if epoch+1 == num_epochs:\n",
        "      # show examples of generated pictures\n",
        "      plot_imgs(generated_img, 1, \"Generated image example\")\n",
        "      print(\"\\n\")\n",
        "\n",
        "visualization(train_d_losses, train_g_losses, test_d_losses, test_g_losses)"
      ],
      "metadata": {
        "colab": {
          "base_uri": "https://localhost:8080/",
          "height": 464
        },
        "id": "vyQOE0PSIRW3",
        "outputId": "3f5f2e0a-b1b4-40a7-ca54-e658a31a5d3e"
      },
      "execution_count": 16,
      "outputs": [
        {
          "output_type": "display_data",
          "data": {
            "image/png": "[encoded data removed]",
            "text/plain": [
              "<Figure size 1440x288 with 1 Axes>"
            ]
          },
          "metadata": {
            "needs_background": "light"
          }
        },
        {
          "output_type": "stream",
          "name": "stdout",
          "text": [
            "\n",
            "\n"
          ]
        },
        {
          "output_type": "display_data",
          "data": {
            "image/png": "[encoded data removed]",
            "text/plain": [
              "<Figure size 432x288 with 1 Axes>"
            ]
          },
          "metadata": {
            "needs_background": "light"
          }
        }
      ]
    }
  ]
}